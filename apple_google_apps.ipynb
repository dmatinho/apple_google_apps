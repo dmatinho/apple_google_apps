{
 "cells": [
  {
   "cell_type": "markdown",
   "metadata": {},
   "source": [
    "# Practice - Exploring Datasets without Pandas"
   ]
  },
  {
   "cell_type": "markdown",
   "metadata": {},
   "source": [
    "The following code is mostly based on exercises from Dataquest. The main purpose of this notebook is to get comfortable with exploring several datasets without using pandas.\n",
    "\n",
    "#### Business Problem: The aim of this analysis is to help developers understand what type of apps are likely to attract more users on Google Play and the App Store"
   ]
  },
  {
   "cell_type": "markdown",
   "metadata": {},
   "source": [
    "The following datasets are available online:\n",
    "  - Apple: https://www.kaggle.com/ramamet4/app-store-apple-data-set-10k-apps\n",
    "  - Google: https://www.kaggle.com/lava18/google-play-store-apps"
   ]
  },
  {
   "cell_type": "markdown",
   "metadata": {},
   "source": [
    "## Data Exploration"
   ]
  },
  {
   "cell_type": "code",
   "execution_count": 1,
   "metadata": {},
   "outputs": [],
   "source": [
    "# open the 2 files\n",
    "opened_file_apple = open('AppleStore.csv', encoding='utf8')\n",
    "opened_file_google = open('googleplaystore.csv', encoding = 'utf8')\n",
    "\n",
    "from csv import reader\n",
    "read_file = reader(opened_file_apple)\n",
    "read_file_g = reader(opened_file_google)\n",
    "\n",
    "apple_data = list(read_file)\n",
    "apple_header = apple_data[0]\n",
    "apple = apple_data[1:]\n",
    "\n",
    "google_data = list(read_file_g)\n",
    "google_header = google_data[0]\n",
    "google = google_data[1:]"
   ]
  },
  {
   "cell_type": "code",
   "execution_count": 2,
   "metadata": {},
   "outputs": [],
   "source": [
    "# open and explore documents\n",
    "def explore_data(dataset, start, end, rows_and_columns = False):\n",
    "    dataset_slice = dataset[start:end]\n",
    "    for row in dataset_slice:\n",
    "        print(row)\n",
    "        print('\\n')\n",
    "        \n",
    "    if rows_and_columns:\n",
    "        print('Number of rows:', len(dataset))\n",
    "        print('Number of columns:', len(dataset[0]))"
   ]
  },
  {
   "cell_type": "markdown",
   "metadata": {},
   "source": [
    "### Apple Data"
   ]
  },
  {
   "cell_type": "code",
   "execution_count": 3,
   "metadata": {},
   "outputs": [
    {
     "name": "stdout",
     "output_type": "stream",
     "text": [
      "['3', '281940292', 'WeatherBug - Local Weather, Radar, Maps, Alerts', '100524032', 'USD', '0', '188583', '2822', '3.5', '4.5', '5.0.0', '4+', 'Weather', '37', '5', '3', '1']\n",
      "\n",
      "\n",
      "Number of rows: 7197\n",
      "Number of columns: 17\n"
     ]
    }
   ],
   "source": [
    "explore_data(apple,2,3,4)"
   ]
  },
  {
   "cell_type": "code",
   "execution_count": 4,
   "metadata": {},
   "outputs": [
    {
     "name": "stdout",
     "output_type": "stream",
     "text": [
      "['', 'id', 'track_name', 'size_bytes', 'currency', 'price', 'rating_count_tot', 'rating_count_ver', 'user_rating', 'user_rating_ver', 'ver', 'cont_rating', 'prime_genre', 'sup_devices.num', 'ipadSc_urls.num', 'lang.num', 'vpp_lic']\n"
     ]
    }
   ],
   "source": [
    "#header\n",
    "print(apple_header)"
   ]
  },
  {
   "cell_type": "markdown",
   "metadata": {},
   "source": [
    "### Google data"
   ]
  },
  {
   "cell_type": "code",
   "execution_count": 5,
   "metadata": {},
   "outputs": [
    {
     "name": "stdout",
     "output_type": "stream",
     "text": [
      "['U Launcher Lite – FREE Live Cool Themes, Hide Apps', 'ART_AND_DESIGN', '4.7', '87510', '8.7M', '5,000,000+', 'Free', '0', 'Everyone', 'Art & Design', 'August 1, 2018', '1.2.4', '4.0.3 and up']\n",
      "\n",
      "\n",
      "Number of rows: 10841\n",
      "Number of columns: 13\n"
     ]
    }
   ],
   "source": [
    "explore_data(google,2,3,4)"
   ]
  },
  {
   "cell_type": "code",
   "execution_count": 6,
   "metadata": {},
   "outputs": [
    {
     "name": "stdout",
     "output_type": "stream",
     "text": [
      "['App', 'Category', 'Rating', 'Reviews', 'Size', 'Installs', 'Type', 'Price', 'Content Rating', 'Genres', 'Last Updated', 'Current Ver', 'Android Ver']\n"
     ]
    }
   ],
   "source": [
    "# header google\n",
    "print(google_header)"
   ]
  },
  {
   "cell_type": "markdown",
   "metadata": {},
   "source": [
    "### Summary"
   ]
  },
  {
   "cell_type": "markdown",
   "metadata": {},
   "source": [
    "According to the two datasets, we seem to have more datapoints for Google than Apple (7198 and 10842, respectively). When comparing the two datasets, some features will definetely contribute more to the purpose of this study: which apps customers prefer.\n",
    "On Apple: Track Name, Price, Rating_count_lot, Prime_genre\n",
    "On Google: App, Rating, Price, Category, Install, Genres"
   ]
  },
  {
   "cell_type": "markdown",
   "metadata": {},
   "source": [
    "## Data Cleaning"
   ]
  },
  {
   "cell_type": "markdown",
   "metadata": {},
   "source": [
    "Perform:\n",
    "    - remove wrong lines of data\n",
    "    - remove duplicated values\n",
    "    - remove non free apps\n",
    "    - remove non-english characters"
   ]
  },
  {
   "cell_type": "markdown",
   "metadata": {},
   "source": [
    "### Non Duplicates - Google"
   ]
  },
  {
   "cell_type": "code",
   "execution_count": 7,
   "metadata": {},
   "outputs": [
    {
     "name": "stdout",
     "output_type": "stream",
     "text": [
      "['Life Made WI-Fi Touchscreen Photo Frame', '1.9', '19', '3.0M', '1,000+', 'Free', '0', 'Everyone', '', 'February 11, 2018', '1.0.19', '4.0 and up']\n",
      "10472\n"
     ]
    }
   ],
   "source": [
    "# running a for loop to get the header and length of data\n",
    "for row in google:\n",
    "    header_length = len(google_header)\n",
    "    rowlength = len(row) \n",
    "    if rowlength != header_length:\n",
    "        print(row)\n",
    "        print(google.index(row))"
   ]
  },
  {
   "cell_type": "code",
   "execution_count": 8,
   "metadata": {},
   "outputs": [
    {
     "name": "stdout",
     "output_type": "stream",
     "text": [
      "['App', 'Category', 'Rating', 'Reviews', 'Size', 'Installs', 'Type', 'Price', 'Content Rating', 'Genres', 'Last Updated', 'Current Ver', 'Android Ver']\n",
      "\n",
      "\n",
      "['Life Made WI-Fi Touchscreen Photo Frame', '1.9', '19', '3.0M', '1,000+', 'Free', '0', 'Everyone', '', 'February 11, 2018', '1.0.19', '4.0 and up']\n",
      "\n",
      "\n",
      "['Xposed Wi-Fi-Pwd', 'PERSONALIZATION', '3.5', '1042', '404k', '100,000+', 'Free', '0', 'Everyone', 'Personalization', 'August 5, 2014', '3.0.0', '4.0.3 and up']\n"
     ]
    }
   ],
   "source": [
    "# inpect rows to see if there is any problem\n",
    "print(google_header)\n",
    "print('\\n')\n",
    "print(google[10472])\n",
    "print('\\n')\n",
    "print(google[10471])"
   ]
  },
  {
   "cell_type": "code",
   "execution_count": 9,
   "metadata": {},
   "outputs": [
    {
     "name": "stdout",
     "output_type": "stream",
     "text": [
      "10841\n",
      "10840\n"
     ]
    }
   ],
   "source": [
    "# information in row 10472 does not match with the header - remove it\n",
    "print(len(google))\n",
    "del google[10472]\n",
    "print(len(google))"
   ]
  },
  {
   "cell_type": "code",
   "execution_count": 71,
   "metadata": {},
   "outputs": [
    {
     "name": "stdout",
     "output_type": "stream",
     "text": [
      "Duplicated: ['Quick PDF Scanner + OCR FREE', 'Box', 'Google My Business', 'ZOOM Cloud Meetings', 'join.me - Simple Meetings', 'Box', 'Zenefits', 'Google Ads', 'Google My Business', 'Slack']\n",
      "\n",
      "\n",
      "Duplicated: 1181\n",
      "Unique: 9659\n"
     ]
    }
   ],
   "source": [
    "# remove duplicated values\n",
    "duplicated_apps = []\n",
    "unique_apps = []\n",
    "\n",
    "for app in google:\n",
    "    name = app[0]\n",
    "    #print(name)\n",
    "    if name in unique_apps:\n",
    "        duplicated_apps.append(name)\n",
    "    else:\n",
    "        unique_apps.append(name)\n",
    "\n",
    "print('Duplicated:',duplicated_apps[:10])\n",
    "print('\\n')\n",
    "print('Duplicated:',len(duplicated_apps))\n",
    "print('Unique:',len(unique_apps))"
   ]
  },
  {
   "cell_type": "code",
   "execution_count": 72,
   "metadata": {},
   "outputs": [
    {
     "name": "stdout",
     "output_type": "stream",
     "text": [
      "['Quick PDF Scanner + OCR FREE', 'BUSINESS', '4.2', '80805', 'Varies with device', '5,000,000+', 'Free', '0', 'Everyone', 'Business', 'February 26, 2018', 'Varies with device', '4.0.3 and up']\n",
      "['Quick PDF Scanner + OCR FREE', 'BUSINESS', '4.2', '80805', 'Varies with device', '5,000,000+', 'Free', '0', 'Everyone', 'Business', 'February 26, 2018', 'Varies with device', '4.0.3 and up']\n",
      "['Quick PDF Scanner + OCR FREE', 'BUSINESS', '4.2', '80804', 'Varies with device', '5,000,000+', 'Free', '0', 'Everyone', 'Business', 'February 26, 2018', 'Varies with device', '4.0.3 and up']\n"
     ]
    }
   ],
   "source": [
    "for app in google:\n",
    "    name = app[0]\n",
    "    if name == 'Quick PDF Scanner + OCR FREE':\n",
    "        print(app)"
   ]
  },
  {
   "cell_type": "markdown",
   "metadata": {},
   "source": [
    "### Analysis"
   ]
  },
  {
   "cell_type": "markdown",
   "metadata": {},
   "source": [
    "\n",
    "The best way to remove the duplicated values is to look at column 4 and keep the highest value. This value corresponds to the number of reviews given to the app (the highest value is most likely to be the latest one)"
   ]
  },
  {
   "cell_type": "code",
   "execution_count": 129,
   "metadata": {},
   "outputs": [],
   "source": [
    "reviews_max = {}\n",
    "\n",
    "for app in google:\n",
    "    name = app[0]\n",
    "    n_reviews = float(app[3])\n",
    "    if name in reviews_max and reviews_max[name] < n_reviews:\n",
    "        reviews_max[name] = n_reviews\n",
    "    if name not in reviews_max:\n",
    "        reviews_max[name] = n_reviews        "
   ]
  },
  {
   "cell_type": "code",
   "execution_count": 130,
   "metadata": {},
   "outputs": [],
   "source": [
    "google_clean = []\n",
    "already_added = []\n",
    "\n",
    "for app in google:\n",
    "    name = app[0]\n",
    "    n_reviews = float(app[3])\n",
    "    if (reviews_max[name]== n_reviews) and (name not in already_added):\n",
    "        already_added.append(name)\n",
    "        google_clean.append(app)\n",
    "        "
   ]
  },
  {
   "cell_type": "code",
   "execution_count": 132,
   "metadata": {},
   "outputs": [
    {
     "name": "stdout",
     "output_type": "stream",
     "text": [
      "Clean data: 9659\n"
     ]
    }
   ],
   "source": [
    "print('Clean data:',len(google_clean))\n"
   ]
  },
  {
   "cell_type": "markdown",
   "metadata": {},
   "source": [
    "We have now removed all the duplicates from he google app."
   ]
  },
  {
   "cell_type": "markdown",
   "metadata": {},
   "source": [
    "### NON English Apps"
   ]
  },
  {
   "cell_type": "markdown",
   "metadata": {},
   "source": [
    "As we are not supposed to analyse non English apps. I way I found to not select them was using the build in funtion ord() - It gives us the unicode code point of the character. According to ASCII, in English language characters have between 0 to 127 length and I assumed everything more than 127 would be another langauge."
   ]
  },
  {
   "cell_type": "code",
   "execution_count": 197,
   "metadata": {},
   "outputs": [
    {
     "name": "stdout",
     "output_type": "stream",
     "text": [
      "中国語 AQリスニング\n",
      "لعبة تقدر تربح DZ\n"
     ]
    }
   ],
   "source": [
    "#let's explore if there are apps not in English\n",
    "print(google_clean[4412][0])\n",
    "print(google_clean[7940][0])"
   ]
  },
  {
   "cell_type": "code",
   "execution_count": 211,
   "metadata": {},
   "outputs": [],
   "source": [
    "def is_english(string):\n",
    "    for character in string:\n",
    "        if ord(character) > 127:\n",
    "            return False\n",
    "        else:\n",
    "            return True"
   ]
  },
  {
   "cell_type": "code",
   "execution_count": 203,
   "metadata": {},
   "outputs": [
    {
     "name": "stdout",
     "output_type": "stream",
     "text": [
      "False\n",
      "True\n"
     ]
    }
   ],
   "source": [
    "print(is_english('中国語 AQリスニング'))\n",
    "print(is_english('Facebook'))\n"
   ]
  },
  {
   "cell_type": "code",
   "execution_count": 217,
   "metadata": {},
   "outputs": [],
   "source": [
    "def is_english(string):\n",
    "    not_ascii = 0\n",
    "    for character in string:\n",
    "        if ord(character) > 127:\n",
    "            not_ascii += 1\n",
    "        \n",
    "    if not_ascii > 3:\n",
    "        return False\n",
    "    else:\n",
    "        return True"
   ]
  },
  {
   "cell_type": "code",
   "execution_count": 222,
   "metadata": {},
   "outputs": [
    {
     "name": "stdout",
     "output_type": "stream",
     "text": [
      "True\n",
      "True\n",
      "False\n"
     ]
    }
   ],
   "source": [
    "print(is_english('Instachat 😜'))\n",
    "print(is_english('Docs To Go™ Free Office Suite'))\n",
    "print(is_english('中国語 AQリスニング'))"
   ]
  },
  {
   "cell_type": "code",
   "execution_count": 292,
   "metadata": {},
   "outputs": [],
   "source": [
    "google_english = []\n",
    "apple_english = []\n",
    "not_english = []\n",
    "\n",
    "for app in google_clean:\n",
    "    name = app[0]\n",
    "    if is_english(name):\n",
    "        google_english.append(app)\n",
    "    else:\n",
    "        not_english.append(app)\n",
    "\n",
    "for app in apple:\n",
    "    name = app[2]\n",
    "    if is_english(name):\n",
    "        apple_english.append(app)\n",
    "    else:\n",
    "        not_english.append(name)"
   ]
  },
  {
   "cell_type": "code",
   "execution_count": 280,
   "metadata": {},
   "outputs": [
    {
     "data": {
      "text/plain": [
       "'Escape the Sweet Shop Series'"
      ]
     },
     "execution_count": 280,
     "metadata": {},
     "output_type": "execute_result"
    }
   ],
   "source": [
    "app[2]"
   ]
  },
  {
   "cell_type": "code",
   "execution_count": 293,
   "metadata": {},
   "outputs": [
    {
     "name": "stdout",
     "output_type": "stream",
     "text": [
      "English apps: 9614\n",
      "English apps: 6183\n",
      "Non english apps: 1059\n",
      "\n",
      "\n"
     ]
    }
   ],
   "source": [
    "print('English apps:',len(google_english))\n",
    "print('English apps:',len(apple_english))\n",
    "print('Non english apps:', len(not_english))\n",
    "print('\\n')\n"
   ]
  },
  {
   "cell_type": "code",
   "execution_count": 294,
   "metadata": {},
   "outputs": [
    {
     "name": "stdout",
     "output_type": "stream",
     "text": [
      "[['Flame - درب عقلك يوميا', 'EDUCATION', '4.6', '56065', '37M', '1,000,000+', 'Free', '0', 'Everyone', 'Education', 'July 26, 2018', '3.3', '4.1 and up'], ['သိင်္ Astrology - Min Thein Kha BayDin', 'LIFESTYLE', '4.7', '2225', '15M', '100,000+', 'Free', '0', 'Everyone', 'Lifestyle', 'July 26, 2018', '4.2.1', '4.0.3 and up'], ['РИА Новости', 'NEWS_AND_MAGAZINES', '4.5', '44274', '8.0M', '1,000,000+', 'Free', '0', 'Everyone', 'News & Magazines', 'August 6, 2018', '4.0.6', '4.4 and up'], ['صور حرف H', 'ART_AND_DESIGN', '4.4', '13', '4.5M', '1,000+', 'Free', '0', 'Everyone', 'Art & Design', 'March 27, 2018', '2.0', '4.0.3 and up'], ['L.POINT - 엘포인트 [ 포인트, 멤버십, 적립, 사용, 모바일 카드, 쿠폰, 롯데]', 'LIFESTYLE', '4.0', '45224', '49M', '5,000,000+', 'Free', '0', 'Everyone', 'Lifestyle', 'August 1, 2018', '6.5.1', '4.1 and up'], ['RMEduS - 음성인식을 활용한 R 프로그래밍 실습 시스템', 'FAMILY', 'NaN', '4', '64M', '1+', 'Free', '0', 'Everyone', 'Education', 'July 17, 2018', '1.0.1', '4.4 and up'], ['AJ렌터카 법인 카셰어링', 'MAPS_AND_NAVIGATION', 'NaN', '0', '27M', '10+', 'Free', '0', 'Everyone', 'Maps & Navigation', 'July 30, 2018', '1.0.0.0', '4.3 and up'], ['Al Quran Free - القرآن (Islam)', 'BOOKS_AND_REFERENCE', '4.7', '1777', '23M', '50,000+', 'Free', '0', 'Everyone', 'Books & Reference', 'February 15, 2015', '1.1', '2.2 and up'], ['中国語 AQリスニング', 'FAMILY', 'NaN', '21', '17M', '5,000+', 'Free', '0', 'Everyone', 'Education', 'June 22, 2016', '2.4.0', '4.0 and up'], ['日本AV历史', 'BOOKS_AND_REFERENCE', '4.1', '215', '30M', '10,000+', 'Free', '0', 'Teen', 'Books & Reference', 'March 6, 2018', '1.2', '4.0 and up'], ['Ay Yıldız Duvar Kağıtları', 'PERSONALIZATION', 'NaN', '3', '6.5M', '100+', 'Free', '0', 'Everyone', 'Personalization', 'December 10, 2017', '1.0.0', '4.3 and up'], ['বাংলা টিভি প্রো BD Bangla TV', 'FAMILY', '4.3', '193', '14M', '10,000+', 'Free', '0', 'Everyone', 'Entertainment', 'April 29, 2017', '1.3', '4.0 and up'], ['Cъновник BG', 'BOOKS_AND_REFERENCE', 'NaN', '13', '4.1M', '1,000+', 'Free', '0', 'Everyone', 'Books & Reference', 'January 21, 2017', '250', '4.0 and up'], ['CSCS BG (в български)', 'FAMILY', '2.4', '7', '2.1M', '100+', 'Paid', '$3.99', 'Everyone', 'Education', 'March 23, 2017', '1.0', '4.0.3 and up'], ['뽕티비 - 개인방송, 인터넷방송, BJ방송', 'VIDEO_PLAYERS', 'NaN', '414', '59M', '100,000+', 'Free', '0', 'Mature 17+', 'Video Players & Editors', 'July 18, 2018', '4.0.7', '4.0.3 and up'], ['BL 女性向け恋愛ゲーム◆俺プリクロス', 'FAMILY', '4.2', '3379', '62M', '100,000+', 'Free', '0', 'Mature 17+', 'Simulation', 'March 23, 2017', '1.6.3', '2.3.3 and up'], ['SecondSecret ‐「恋を読む」BLノベルゲーム‐', 'GAME', '4.4', '1563', '40M', '50,000+', 'Free', '0', 'Teen', 'Adventure', 'June 29, 2017', '1.3.6', '4.0 and up'], ['BL 女性向け恋愛ゲーム◆ごくメン', 'FAMILY', '4.2', '1901', '8.2M', '100,000+', 'Free', '0', 'Mature 17+', 'Simulation', 'July 7, 2016', '1.3.0', '2.3.3 and up'], ['あなカレ【BL】無料ゲーム', 'FAMILY', '4.7', '6073', '8.5M', '100,000+', 'Free', '0', 'Mature 17+', 'Simulation', 'February 25, 2018', '4.2.2', '2.3 and up'], ['감성학원 BL 첫사랑', 'COMICS', '4.4', '190', '34M', '10,000+', 'Free', '0', 'Everyone', 'Comics', 'November 17, 2017', '3.2.1', '3.0 and up'], ['BQ-መጽሐፍ ቅዱሳዊ ጥያቄዎች', 'GAME', '4.7', '191', '7.2M', '5,000+', 'Free', '0', 'Everyone', 'Trivia', 'July 31, 2018', '4.1.2', '4.1 and up'], ['BS Calendar / Patro / पात्रो', 'PRODUCTIVITY', '4.2', '218', 'Varies with device', '50,000+', 'Free', '0', 'Everyone', 'Productivity', 'July 15, 2018', 'Varies with device', 'Varies with device'], ['Vip视频免费看-BT磁力搜索', 'TOOLS', 'NaN', '20', '7.9M', '1,000+', 'Free', '0', 'Everyone', 'Tools', 'June 8, 2018', '1.2', '4.0 and up'], ['Билеты ПДД CD 2019 PRO', 'AUTO_AND_VEHICLES', 'NaN', '21', '16M', '100+', 'Paid', '$1.49', 'Everyone', 'Auto & Vehicles', 'July 27, 2018', '1.49', '4.0 and up'], ['Offline Jízdní řády CG Transit', 'MAPS_AND_NAVIGATION', '4.6', '7314', '7.0M', '100,000+', 'Free', '0', 'Everyone', 'Maps & Navigation', 'September 7, 2017', '3.1.4', '4.0 and up'], ['Bonjour 2017 Abidjan CI ❤❤❤❤❤', 'FAMILY', 'NaN', '235', '3.3M', '10,000+', 'Free', '0', 'Everyone', 'Entertainment', 'February 16, 2017', '1.0.2.0', '2.0 and up'], ['CK 初一 十五', 'LIFESTYLE', '4.0', '294', '153k', '10,000+', 'Free', '0', 'Everyone', 'Lifestyle', 'July 3, 2013', '1.0.12', '2.1 and up'], ['الفاتحون Conquerors', 'FAMILY', '4.5', '108130', '40M', '5,000,000+', 'Free', '0', 'Teen', 'Strategy', 'August 3, 2018', '1.8.0', '4.0 and up'], ['DG ग्राम / Digital Gram Panchayat', 'NEWS_AND_MAGAZINES', '4.5', '53', '5.9M', '10,000+', 'Free', '0', 'Teen', 'News & Magazines', 'June 19, 2018', '1.7', '4.0 and up'], ['DM הפקות', 'PHOTOGRAPHY', 'NaN', '2', '10M', '100+', 'Free', '0', 'Everyone', 'Photography', 'October 14, 2017', '30.0', '3.2 and up'], ['DW فارسی By dw-arab.com', 'NEWS_AND_MAGAZINES', '4.7', '11', '4.4M', '1,000+', 'Free', '0', 'Everyone', 'News & Magazines', 'March 26, 2017', '1.0.0', '4.1 and up'], ['لعبة تقدر تربح DZ', 'FAMILY', '4.2', '238', '6.8M', '10,000+', 'Free', '0', 'Everyone', 'Education', 'November 18, 2016', '6.0.0.0', '4.1 and up'], ['বাংলাflix', 'FAMILY', '4.2', '1111', '7.3M', '100,000+', 'Free', '0', 'Everyone', 'Entertainment', 'June 5, 2018', '3.6.1', '4.1 and up'], ['RPG ブレイジング ソウルズ アクセレイト', 'FAMILY', '3.4', '159', '3.1M', '1,000+', 'Paid', '$10.99', 'Teen', 'Role Playing', 'April 26, 2018', '2.12', '2.3 and up'], ['英漢字典 EC Dictionary', 'FAMILY', '4.3', '55408', 'Varies with device', '1,000,000+', 'Free', '0', 'Everyone', 'Education', 'January 8, 2018', 'Varies with device', 'Varies with device'], ['ECナビ×シュフー', 'LIFESTYLE', '4.0', '576', '7.4M', '50,000+', 'Free', '0', 'Everyone', 'Lifestyle', 'June 7, 2018', '1.0.2', '4.0 and up'], ['أحداث وحقائق | خبر عاجل في اخبار العالم', 'NEWS_AND_MAGAZINES', '4.8', '311', '14M', '5,000+', 'Free', '0', 'Everyone 10+', 'News & Magazines', 'July 15, 2018', '2.9.19a', '4.2 and up'], ['EG SIM CARD (EGSIMCARD, 이지심카드)', 'BUSINESS', '2.9', '322', '1.5M', '50,000+', 'Free', '0', 'Everyone', 'Business', 'March 28, 2017', '2.13', '2.2 and up'], ['パーリーゲイツ公式通販｜EJ STYLE（イージェイスタイル）', 'SHOPPING', 'NaN', '1', '9.3M', '100+', 'Free', '0', 'Everyone', 'Shopping', 'November 16, 2017', '3.0', '4.0.3 and up'], ['FAHREDDİN er-RÂZİ TEFSİRİ', 'BOOKS_AND_REFERENCE', 'NaN', '9', '20M', '1,000+', 'Free', '0', 'Everyone', 'Books & Reference', 'March 19, 2018', '1.1', '4.0.3 and up'], [\"I'm Rich/Eu sou Rico/أنا غني/我很有錢\", 'LIFESTYLE', 'NaN', '0', '40M', '0+', 'Paid', '$399.99', 'Everyone', 'Lifestyle', 'December 1, 2017', 'MONEY', '4.1 and up'], ['AÖF Ev İdaresi 1. Sınıf', 'FAMILY', 'NaN', '2', '11M', '1,000+', 'Free', '0', 'Everyone', 'Education', 'July 15, 2018', '3.0', '4.1 and up'], ['Ey Sey Storytime រឿងនិទានតាឥសី', 'FAMILY', '4.7', '1327', '44M', '10,000+', 'Free', '0', 'Everyone', 'Education;Education', 'May 18, 2017', '1.2.2', '4.0.3 and up'], ['哈哈姆特不EY', 'COMMUNICATION', 'NaN', '239', '18M', '10,000+', 'Free', '0', 'Everyone', 'Communication', 'July 31, 2018', '1.3.4', '4.4 and up'], ['FP Разбитый дисплей', 'FAMILY', '4.5', '922', '552k', '50,000+', 'Free', '0', 'Everyone', 'Entertainment', 'September 20, 2014', '1.1', '1.6 and up'], '新浪新闻-阅读最新时事热门头条资讯视频', '同花顺-炒股、股票', '央视影音-海量央视内容高清直播', '优酷视频', 'クックパッド - No.1料理レシピ検索アプリ', '大众点评-发现品质生活', 'ヤフオク! 利用者数NO.1のオークション、フリマアプリ', 'QQ 浏览器-搜新闻、选小说漫画、看视频', '随手记（专业版）-好用的记账理财工具', 'かなもじ', '恵方コンパス.', '「宅建士」過去問題《受験用》', '携程旅行-酒店、机票、火车票预订助手', 'ゲーム発展国＋＋', 'カロリー管理（痩せるアプリ）', '手机百度 - 百度一下你就得到', '乐视视频-白鹿原,欢乐颂,奔跑吧全网热播', 'ホットペッパービューティー/サロン予約', 'QQ安全中心', '淘宝 - 随时随地，想淘就淘', '赶集网-工作生活啥都有！', 'QQ同步助手-新机一键换机必备工具', '央视影音HD-海量央视内容高清直播', '中国建设银行', '招商银行', '欧路英语词典 Eudic 增强版', '爱奇艺 - 电视剧电影综艺娱乐视频播放器', '去哪儿旅行-预订机票酒店火车票特价旅游自由行', '土豆视频HD—高清影视综艺视频播放器', '土豆（短视频分享平台）', '出会い系アプリ i-Mail（アイメール）', '招商银行信用卡掌上生活', '腾讯新闻-头条新闻热点资讯掌上阅读软件', '中国银行手机银行', 'ファッション通販 ZOZOTOWN', '聚力视频HD-人民的名义,跨界歌王全网热播', '腾讯视频HD-楚乔传,明日之子6月全网首播', '爱奇艺HD -《欢乐颂2》电视剧热播', '花しらべ 花認識/花検索', '乐视视频HD-白鹿原,欢乐颂,奔跑吧全网热播', 'ナビタイム ドライブサポーター - NAVITIMEのカーナビアプリ', \"マクドナルド - McDonald's Japan\", '搜房网房天下-新房二手房租房交易平台', '手机京东-首次购买可领取188元优惠券', '搜狐视频HD-欢乐颂2 全网首播', 'QQ音乐-来这里“发现・音乐”', '安居客-二手房、新房、租房的找房助手', '汽车之家-提供新车,二手车报价及资讯', '中国联通手机营业厅客户端(官方版)', '唯品会-欢乐颂2独家电商 同款热卖', '万年历-值得信赖的日历黄历查询工具', '美团 - 吃喝玩乐全都有', '中国工商银行', '苏宁易购-新人专享大礼包', '网易新闻 - 精选好内容，算出你的兴趣', 'QQ浏览器HD-极速搜索浏览器', '1号店-全球超市 轻松到家', '易到 - 低价专车,高品质出行', 'YY- 小全民手机直播交友软件', '美丽说-潮流穿搭快人一步', 'プチ・ロワイヤル仏和辞典（第4版）・和仏辞典（第3版）', 'Round1 お得なクーポン毎週配信！', '搜狐新闻—新闻热点资讯掌上阅读软件', '聚力视频-蓝光电视剧电影在线热播', '北京浮生记', '腾讯手机管家-拦截骚扰电话的QQ安全助手', '360手机卫士-超安全的来电防骚扰助手', 'TOEIC®テスト文法640問1', '驴妈妈旅游-订景点门票机票火车票特价酒店', '爱奇艺PPS -《欢乐颂2》电视剧热播', '当当-正品秒杀，首单立减5元', '欢乐斗地主•腾讯', '自転車ナビ by NAVITIME(ナビタイム) - 自転車のナビができるアプリ', '途牛旅游-订机票酒店，查旅行景点门票', 'MOMO陌陌-开启视频社交,用直播分享生活', '蘑菇街-网红直播搭配的购物特卖平台', '百度地图-智能的手机导航，公交地铁出行必备', '去哪儿旅行HD-总有你要的低价', '咕咚-你的跑步骑行运动社区', 'QQ游戏大厅HD', '腾讯视频-欢乐颂2全网首播', '搜狐视频-欢乐颂2 全网首播', '唯品会 HD 全球精选，正品特卖', '高德地图（精准专业的手机地图）', '广东移动手机营业厅-话费流量一手掌握，专属优惠定期发放', '百度糯米-电影,美食团购', '随手记专业版 for  iPad', '飞常准Pro-全球航班查询机票酒店预订', '同程旅游-中国汽车票自助周边游海外跟团订票', 'SPI言語 【Study Pro】', '百度贴吧-全球最大兴趣交友社区', '激Jパチスロ 2027', '58同城-招聘找工作兼职租房软件', '英単語ターゲット1900（5訂版）', '秒拍-超火爆短视频分享平台', 'Yahoo!防災速報 - 地震や豪雨など災害情報をいち早く通知', 'Dictionary ( قاموس عربي / انجليزي + ودجيت الترجمة)', '国美在线 – 新人免费领200元优惠券', 'QQ阅读-拥有海量原著小说的电子书阅读器', 'SPI非言語 【Study Pro】', 'まっぷるリンク - 旅行ガイドを丸ごとアプリで持ち歩き', '中华万年历-2亿用户首选的日历软件', 'mememo(ミーメモ)ダイエット〜生理日予測まで女性サポート', 'TOEIC®テストリスニング360問', '仙劍奇俠傳5 - 劍傲丹楓', '美食杰-让吃饭变简单(VIP版)', '猫眼电影 - 一网打尽好电影', 'ジーユー', '笑ったら負け', '饿了么外卖-大牌美食，折扣热卖', '闲鱼-让你的闲置游起来', '战神之怒', '驾考宝典-2017最新考驾照驾校学车驾考通', '电信营业厅', 'Majiang Mahjong（单机+川麻+二人+武汉+国标）', '农行掌上银行', 'Think in Japanese (Original name:ひとりごと英語)', '内涵段子 - 精选搞笑图片、视频', '上海移动掌上营业厅', '聚美优品-新用户专享160元现金券', '天猫-购物', 'ケンタッキーフライドチキン\\u3000公式アプリ', '翼支付-只为简单生活', '冒険ダンジョン村', '腾讯微云-安全备份共享文件和照片', '宝宝树孕育-火爆的备孕怀孕育儿社区', 'フリル(FRIL) - 満足度No.1 のフリマアプリ', 'ナビタイムの乗り換え案内 - 遅延情報やバス時刻表を案内するアプリ', '今日头条 - 热点新闻资讯、娱乐视频', '东方财富网领先版-财经资讯&股票开户', 'same - 就是聊得来', '书香云集Pro-小说电子书免费看书读书听书追书无广告阅读器', '暴风影音-BaoFeng Player', 'どうぶつしょうぎ(公式)', '征戦エクスカリバー', '大盛グルメ食堂', 'キクタン  【Basic】  4000 ～聞いて覚える英単語～(アルク)', 'キクタン 【Advanced】 6000 ～聞いて覚える英単語～(アルク)', 'キクタン 【Super】 12000 ～聞いて覚える英単語～(アルク)', '百度网盘', '万年历-农历黄历日历天气', 'ヨドバシ', '平安金管家 — 值得信赖的移动金融生活管家', 'スシロー', '百度地图HD', 'Jメール 出会える人気の匿名SNS出会い系アプリ', '滴滴出行', '百度网盘 HD', '去哪儿攻略—查游记旅游攻略，订机票酒店', '直播吧(官方版)-体育从这里开始', '高德地图HD', 'ライブチャット、ビデオチャット通話が楽しめる！ ライブでゴーゴー', '51信用卡管家', '51信用卡管家Pro', '百度HD-极速安全浏览器', '淘票票 - 原淘宝电影，选座购票必备', '楽天カード', '腾讯体育-NBA全网独播', 'キクタンTOEIC(R) Test Score 600 ～聞いて覚える英単語～(アルク)', '百度视频HD-高清电视剧、电影在线观看神器', '我想有个家', '车轮查违章-2017全国车辆违章查询助手', '通信量チェッカー', '一起捕鱼 - 欢乐街机电玩城', '地元の掲示板「ジモティー」地元でカンタン！フリマよりもお得！', '今日头条(专业版) - 推荐热点新闻资讯、娱乐视频', '途家-全球公寓民宿预订平台', '零基础学音标', '中国移动手机营业厅(中国移动官方)', '买火车票Pro', '肌年齢診断', 'QRコードリーダー for iPhone', 'ウィズダム英和・和英辞典 2', '丸亀製麺', 'ゲオ\\u3000クーポンが貰える！ゲーム予約もできる！', '返利-专注网购省钱的APP', '家园7：雪城增强版', 'サクサクチェッカー 最適化  -  iChecker', '仙劍奇俠傳1 DOS懷舊版', '家計簿マネーフォワード-自動連携で簡単 人気の家計簿', '尚品网 - 全球精品高端时尚购物网站', '银联钱包- 银行卡管家，扫码支付享优惠', '腾讯微云HD-安全备份共享文件和照片', '실시간 날씨', '易经全集-[有声读物]', '海鮮!!すし街道', '楽天市場 for iPad', '驾校一点通-保过版，2017最新驾考学车宝典', '【マイナビバイト大学生版】大学生のバイト探し・アルバイト求人', '英熟語ターゲット1000（4訂版）', '美柚 - 女生助手', '沪江开心词场-英语、日语、韩语学习助手', '平安证券', '达令全球好货－正品免税，带你购全球', 'YY HD-和美女帅哥主播视频聊天的直播软件', '百度贴吧HD', '机票、火车票、汽车票预定助手 for 铁路12306', '飞凡--智慧新生活', 'ようとん場', 'ガールズちゃんねる - 女子のニュースとガールズトーク', '動画英文法2700', '腾讯新闻HD-最资深的阅读软件', '健康献立レシピ提案 オーガニック “Ohganic\"', '洋码头—正品保证海外买手带你全球购洋货', 'VVebo - 微博客户端', 'LOCARI(ロカリ)-オトナ女子向けライフスタイル情報アプリ', '心霊たんち機 Plus', 'ゲッターズ飯田の占い', '東京時層地図 for iPad', '本気で英会話！ペラペラ英語\\u3000英単語・リスニング・TOEICの学習にも！', '筆姫 - オシャレなグリーティングカード SNS投稿 自宅印刷もOK', '腾讯欢乐麻将全集', 'GANMA! - 漫画が制限ナシで読み放題のマンガアプリ', '一骑当千OL-万人国战（Legend Of Warrior）', 'minimo（ミニモ）/サロン予約', 'ダイエット女子が痩せた魔法のアプリ-食事・運動・美容＠DIET', 'comico/人気オリジナル漫画が毎日更新！/コミコ', 'G1牧場ステークス', 'それゆけ！ヤンキッキー', '秀色秀场-网红直播 聊天交友', '美团外卖-甜点生鲜等零食配送，鲜花蛋糕准时必达', '美男美女診断', '我的密码-极简账号备忘录，安全记录管家', 'スタバで呪文', '新概念英语2015最新版-英美全四册', '戦国乙女〜剣戟に舞う白き剣聖〜', 'スナイパイ72', '懂球帝 - 足球迷必备神器', '航旅纵横PRO-官方航班动态、手机值机、机票', '宜搜小说-亿万网友共享高品质阅读离线追更', '合戦!!にんじゃ村', '赤ペン 提出カメラ', '咪咕视频-电视剧综艺直播', '宜人贷借款', '开心消消乐®', 'ゆるドラシル -本格派神話RPG-', 'QRコードリーダー for iPhone - 無料で使えるQRコード読み取り用アプリ', '平安好车主-用车助手,安全管家', '工银融e联', 'お弁当をつくろう！ママごっこ－お仕事体験知育アプリ', '宜搜小说-热门网络书籍看书追更必备神器', '作业帮-小初高学生拍照答疑学习辅导助手', 'ALOE -ダイエット・ヨガ・エクササイズ…健康美を追求する女性の人気無料ニュースアプリ', 'JR東日本アプリ', '单机三国志-不抽卡无体力,战个痛快', '大空ヘクタール農園', '百度手机卫士－wifi管家照片管理防骚扰安全助手', '妙健康-健康自测管家', '世界邦行程大师-出国自由行定制专家', 'タップル誕生 - 出会いアプリで趣味から恋活・婚活', '全民炸金花-首款含电玩城百家乐的棋牌游戏', 'オービス警報 - オービス/速度取締り&渋滞', 'パチスロ モンスターハンター 月下雷鳴', '斗鱼--王者大神在直播', '贝贝-8000万妈妈信赖的母婴正品特卖拼团商城', 'ViRATES[バイレーツ]-面白ネタまとめの決定版！', '虎牙直播-热门高清游戏互动直播平台', '星になったカイロくん', '最後の英単語学習！マジタン', 'e袋洗-新用户领20元优惠券，20分钟上门取送', '喜马拉雅FM（听书社区）电台有声小说相声英语', 'ダイエットが続く！人気のカロリー・体重管理アプリ 「もぐたん」', 'テレビ視聴', '虎牙直播HD-热门高清游戏互动直播平台', '美柚经期助手(专业版)-月经·生理期预测，还能备孕育儿', 'WiFi钥匙—万能wifi密码钥匙', '挖财宝理财-预期年化收益高达12%', '华尔街见闻（专业版）-全球财经新闻精选', '360手机浏览器-安全上网看新闻、安心搜索、极速抢票', 'ATOK -日本語入力キーボード', '花火撮影 notepad Lite', '阴阳师-全区互通现世集结', '京东金融-【618周年庆】新人领千元好礼', 'バーチャル高校野球', 'わかる！算数 小学４年【上】 for iPad', 'わかる！算数 小学４年【下】 for iPad', '宾果消消消 -赵丽颖代言', 'HONNE -本音が言える匿名つぶやき&チャットアプリ', 'ニート勇者３ -闇の側の者たち- 無料ロールプレイングゲームRPG', '快看漫画', '小猿搜题-中小学拍照搜题作业帮手', 'ピタゴラパブロフ', '百度外卖 -美食订餐品质生活，超市水果安全到家', '途牛旅游PRO-订机票酒店，查旅行景点门票', 'Ticket Camp - フリマよりも安心で簡単なチケットアプリ', 'Suicaチャージ', '家长通-一起作业旗下家长端的同步课堂点读机', 'mazec - 手書き日本語入力ソフト', 'Creema（クリーマ）- ハンドメイドマーケットプレイス', '讯飞输入法-智能语音输入和表情斗图神器', '搜狗输入法-Sogou Keyboard', '史上最强的大脑4-超级王者(时代永恒小强)', '信用钱包官方版-用手机号就能贷款', 'マンガ図書館Z -人気漫画が読み放題！', 'flick（フリック）- みんなの顔文字キーボードから名前が変わりました', '单机三国志2-铜雀台资料片 天天都玩', '平安好医生-要健康上平安好医生', \"Fragment's Note Memories -Fragment's Note公式資料集アプリ-\", '戦国乙女〜剣戟に舞う白き剣聖〜西国参戦編', 'モンスト マルチ掲示板 運極 ＆ ガチャ予報 & 攻略情報 for モンスターストライク', '优信二手车-二手车买车卖车评估交易平台', '幻獣契約クリプトラクト', '诸神战纪竞技场：超神大冒险(无尽关 排行榜 动作类横版过关游戏)', '多盈理财-正规手机投资金融理财产品', '桃太郎の\\u3000はなし\\u3000は終わっていない #泣ける昔話ノベルゲーム', '年賀状2018｜おしゃれなスマホで写真年賀状2018', 'オオカミ姫 [ みんなで協力！ターン制ギルドバトルRPG ]', 'シンデレラブレイド2', '夢王国と眠れる100人の王子様', 'HIGO-全球奢侈品牌和设计师品牌购买平台', 'スタンバイ 仕事もバイトも暮らしにあった選び方', '暇なら話そう！誰でも話せて友達も作れる「KoeTomo」', '作业通-中小学搜题搜作文必备神器', '舞妓ドリル', 'ペットとあそぼ！- 声を選んで写真がしゃべる、しりとりゲームおしゃべりペット！犬・猫好き癒し系アプリ', 'デジラアプリ - データ容量のやりくりに', '萌店-朋友圈的美味生活', '好车无忧二手车—二手车买卖实体店', '出会い無料のチャット掲示板 LINK', 'ニュース速報と災害地震速報が届くライフライン NewsDigest（ニュースダイジェスト）', 'がんばれルルロロ！かさねてブロック', 'オーブGETマルチ掲示板！ for モンスト', 'パチスロ黄門ちゃま 喝', 'Keep - 移动健身教练 自由运动场', '平安WiFi-手机必备的万能WiFi上网钥匙', 'センバツLIVE!2017／第89回選抜高校野球大会公式アプリ', '一筆書きゲーム！無料パズルで脳トレしよう！ by だーぱん', 'ダウト～嘘つきオトコは誰？～', '戦艦帝国-200艘の実在戦艦を集めろ (2周年記念&世界2000万DL)', '同花顺至尊版', '特种部队-跨服竞技TCG军事策略游戏', 'メンタルリープのアプリ：ワンダーウィーク（旧：ワンダーウィークス）', 'ごちうさアラーム～チノ編～', '超ヒモ理論 ～働きたくないでござる～', 'さすゆう -さすがは勇者様です-無料放置系お手軽RPG!!', '黄金日-贵金属理财投资黄金白银', 'SmartForm - 見積書・納品書・請求書・領収書作成ソフトの新定番！', 'グルータ / 最新ニュースまとめをグループチャットで！(Grouta)', 'the SOUL of SEVENS【ソウル オブ セブンス】', '网易考拉海购—新人免费领取1000元优惠券', 'ピグパーティ - きせかえ・アバターで楽しむトークアプリ', '激ムズ！和のひとふで書き！ 〜頭をつかう脳トレパズルゲーム〜', 'Eye Training Cocololo-3dステレオグラム視力回復アプリ-', '蜜芽 - 生娃养娃上蜜芽', 'pixivコミック - みんなのマンガアプリ', '殺意の国のアリス -狂気に目覚めた童話の主人公たち-', '豪快ショット連発！ストレス発散テニスゲーム「エアK」', '三国杀传奇-神将觉醒', '《女性口コミNo.1》水晶玉子の幸福領域占い', 'スロットマニア・フィーバー～本場ラスベガススロット', '最長１週間の献立が簡単に作れるme:new（ミーニュー）', '真モグモグ風林火山2', '全民夺宝-时尚购潮流商品平台', 'みんなのお弁当 by クックパッド ~お弁当をレシピ付きで記録・共有~', '她社区-只有女生的社区！', '中国搜索-国家权威搜索', 'ファンタジードライブ【快進撃3DRPG】', '霸王卧龙传', '全民暴力摩托-暴力摩托3d免费真实赛车小游戏', 'PP基金-随时提现的投资理财平台', '诺诺镑客—让财富升值', '求生无限 - 无限流生存挑战大冒险', 'NAVIRO(ナビロー) - カーナビ/バイクナビ/徒歩ナビが使える高性能ナビアプリ', '借贷宝-直投熟人更高明', '乐视体育—英超欧冠F1高清直播', '日课——给每一位好读诗的人！', '鏡の中のプリンセス Love Palace', '大江戸ぶらり', '弹弹堂S- 巴萨传奇助阵 弹弹堂手游官方版', '网娱大师-网吧娱乐大师', '培训题库', '全民德州扑克-天天尽享拉斯维加斯之夜', '脳トレクロスワード -解けばIQがあがる!?無料パズルゲーム-', '小牛在线-理财投资神器', '花椒直播-高清美颜直播互动平台', 'モン娘は～れむ【モンはれ】', 'サッカーカーニバル', '龙珠直播-高清游戏娱乐直播平台', '记账·圈子账本(专业版)—可共享的全能记帐本软件', '百度钱包-金融信贷和理财投资优选', '小咖秀-全民视频才艺直播社区', '懸賞パズルパクロス２', '伙星 - 随手拍出明星一样的MV', 'ディグラム恋愛診断', '球球大作战', '天天快报 - 最热门的新闻资讯软件', '盗墓OL-精绝女王', '恋愛消滅ボタン ~ 無料 泣ける恋愛小説 放置ゲーム ~', '街机游戏厅 - 电玩游戏合集火爆改版', '乐享动-有运动音乐推荐的计步器', '【よく当たる】手相鑑定〜選べる鑑定ジャンル(人生運、仕事運、恋愛運)', 'キスまでにしたい10のこと ~ 無料 胸きゅん恋愛小説 放置げーむ ~', '闇金クリッカー', '腾讯WiFi管家-手机安全免费WiFi', '霸王英雄传（吕布一统天下，演义三国群英杰传奇）', '转转-更专业的二手闲置交易平台', 'お小遣いアプリ。ポイントをレシートで貯めよう\\u3000／\\u3000レシポ！', '一起作业学生端-中小学霸口袋学习辅导助手', '奇幻射击2', '暴打三国志-经典RPG角色扮演动作卡牌策略手游', '多重人格彼女〜僕の彼女は世界で一番可愛くて、そして狂っている〜', '脱出ゲーム\\u3000都市伝説〜杉沢村からの脱出〜', '一言-记录字句，发现共鸣', '空格－更优秀的个人技能交易平台', '9回裏だけ甲子園', 'ブラックバイトはじめました。俺の嫁に捧げるストーリー【放置】', '激ムズ！ねこ階段', '【明星恋爱】偶像之路TIME TO STAR', '口袋苍穹-首日送萧炎，重返斗气大陆', '全民坦克联盟—坦克帝国官方正版', '网商银行', '操作しやすいナンプレ！目に優しい パズルゲーム 800問', 'シロクマ先生のゆるくない英文法', '麻雀物語３ 役満乱舞の究極大戦', 'クリアした奴マジ天才', 'Color•多彩手帐', '激ムズ！ねこじゃんぷ２', '戦え！プリンセスドール', 'MINE［マイン］ファッション/コーディネート動画アプリ', '片手キーボードPRO', '狼人之夜', 'アイドルの姫\\u3000-わたしの青春マテリアル-', '开挂江湖-Q版武侠挂机', '全国マルチ掲示板 for モンスト！〜タスカンと運極ができるアプリ〜', '俺と鬼嫁の100日戦記', '浪漫庄园(自由创造你的梦想)', '私のヒモ男～イケメン拾いました～恋愛・放置ゲーム', 'ホラースポット-ghost spot-意味が分かると怖いマップ', '蚂蚁聚宝—蚂蚁金服旗下投资理财平台', 'FRESH! - ログイン不要・高画質で生放送が見放題', '融360-贷款、信用卡、信用报告', '病みカワカメラ', '青藍高校リア充部', '女の子の憧れが全てつまったTOKYOリアルコーデアプリ - TOPLOG', '【放置ゲー】壁ドンしたら人生変わった ～グリモアのキャラ達に壁ドン！？～', '商品バーコードで賞味期限を通知 Limiter2 (リミッター)', 'ゲームプレイで賞金ゲット！ポットハンター', '金陵十三钗－王丽坤代言,伴你穿越红楼今梦', '小历 - 通知中心日历', 'おチャベリ-ビデオ通話でマッチングアプリ', '公牛炒股-证券开户交易软件', '君の目的はボクを殺すこと。', '二炮手-同名抗战狙击手游(孙红雷主演)', '【真・お絵かきパズル】〇〇投げてみた結果ｗｗ\\u3000完全無料！', '【実況】今からカレシを葬る #衝撃の実況動画ノベルゲーム', 'まぐろ職人（通）', '出会い応援チャットアプリLIKE YOU', 'Black Hole -世の中で最も困難な物理げーむ ぱずる-', '倩女幽魂-周年庆资料片开启新主角剧情', '风行视频+ HD - 电影电视剧体育视频播放器', '铁血武林-武侠回合制策略手游', '新大主宰-2016卡牌手游巨作！', 'パチスロ バイオハザード6', '謎解き母からのメモ', 'まぐろ投げ！', '大圣捉妖记', '大头儿子天天乐跑-和孩子一起玩的游戏！', '渡劫-多武器战斗', '果罐Pro-通知中心快捷安全启动插件', 'セブン‐イレブンアプリ', '爆速！マルチ募集掲示板 for モンスト', '艶が～るプレミアム 女性向け恋愛ゲーム！乙女げーむ', '全国一斉性格テストDX', '盗墓之王-寻龙秘事', '愛しのショコラティエ いけめん恋愛ゲーム・乙女げーむ女性向け人気', '闪瘦-健康减肥瘦身', '格斗学院-社团争霸圣装崛起，热血高校一触即发', '400ステージに挑戦！ばあジャンプ', '斗斗大冒险之我爱斗斗堂-官方正版4v4竞技抛物线手游', '拼多多 - 1亿人都在拼的购物App', 'You hate me? わたしのこと きらい？', '下ヨシ子の「２０１６年\\u3000あなたの流生命」', 'モンスターマスターX【オンライン対戦型RPG（ロールプレイング・ゲーム）】', 'そら案内', '洋菓子店ローズ ～ほのぼの再建記～', '【謎解き】罪と罰-ノベルゲーム型 推理アドベンチャー', '歌手発掘 動画投稿アプリ  カラオケ！sing!  App Star', 'FUNDO［ファンドゥ］- 話題のネタを毎日更新！無料ニュースメディア', '魔女の泉', '艺龙旅行Pro-酒店预订专家', 'ゴールできたら神！！2', '都市异能小说-全本经典有声小说听书阅读神器', 'TOEIC®TEST実力判定『アプトレ』', 'お前は俺の女だろーが【胸キュン恋愛、リア充ストーリー！？】', '召喚AKUMA/悪魔合体召喚～育成シミュレーションRPGゲーム', '「おつぼね」“あるある”エンターテイメントストーリー：OTUBO（お局）', 'ゴミカレ!!', 'ぷちドラシル 〜ゆるドラ外伝〜', '12オーディンズ - 王道RPG', 'フラッシュワード〜光速瞬間記憶脳トレクイズ〜', 'にゃんちゅう', '広告ブロッカー（ウェブ画面上の広告をブロックする最強アプリ)', '诸神战纪IV:战神崛起', '青藍高校ヒモ部', '大航海世界（风靡日本航海手游《壮绝大航海》正版授权）', '激ムズ！和のひとふで書き！online', '开心扫雷-根本停不下来的创新玩法', '舰娘收藏2-注册就送辽宁号', '恋愛タップコミュニケーションゲーム 週刊マイメイド', '誰にもバレない！[秘密のアルバム]\\u3000無料で写真をロック！', '鬼吹灯昆仑神宫 - 年兽袭来', 'スッキリ謎解きゲーム！！', '觉醒吧数码兽-被选召的孩子  超人气动漫  回合制卡牌策略养成', 'モンスト全国マルチ掲示板 for モンスターストライク！〜タスカンと運極が作れるアプリ〜', 'デビルサバイバー２ 最後の７日間', '兜町アナリストがお伝えする「兜予報」（無料）', '棒棒糖-宝宝的世界衣橱', 'ママはストーカー', 'Übungen für einen starken Rücken – GEO WISSEN GESUNDHEIT', '交通银行信用卡买单吧', '僕の彼女は浮気なんかしない', 'プリンセスクローゼット 女性向け恋愛ゲーム！乙女げーむ', '恋愛ゴシップ 女性向け恋愛ゲーム！乙女げーむ', '飛べないロボはただの... ～無料アクションRPGゲーム～', '酷我音乐HD-无损在线播放', '零钱夺宝pro-新手99元红包助你1元购', 'モンスト覇者の塔マルチ掲示板 for モンスターストライク', '大挂西游 - 降魔之路官方正版', 'kurashiru [クラシル] - 料理レシピ動画数No.1', '熱血高校！胴上げ部', '【放置】勇者改名 ～「ふざけた名前つけやがって！」', '机甲无双－燃即正义 殿堂级战斗手游', '上司と秘密の2LDK\\u3000Love Happening', '注文の多いブサ猫軒', 'DayDayCook － 日日煮', '百盈足球-专业足篮比分赛事预测', 'ねこめし屋 -マンガも読めるネコゲーム料理店経営の無料育成シュミレーション-', 'ごちうさアラーム～リゼ編～', 'ごちうさアラーム～シャロ編～', 'テニスクラブ物語', '【2017年の運勢決定版】ゲッターズ飯田の占い', 'ScaryStory in Japan 怖い話し無料', 'マンガきゅんと‐漫画が全話読み放題の少女まんがアプリ', '時計仕掛けの彼女 /明日なんて来なきゃいいのにね', '完全犯罪クラブ', '学年ビリのギャルが今さら受験してみた', '妹型杀器', '激ムズ！にゃんコプター', '暗黑屠魔者2（唉哟-还不错哦）', 'エジコイ！〜エジプト神と恋しよっ〜', 'PINGPONG（ピンポン）- 君の反射神経Lvはいくつ？', 'ぼっちでもリア充になれる奇跡のアプリ。〜恋する缶づめ。〜', '完全心理プロファイルX', '10 – 頭を良くするパズル', '物理パズル:flower（フラワー）', '俺が浮気した時の話、聞く？ 男女の修羅場の話まとめ', '单读-我们的黄金时代', '誰ガ為ノ世界~悲しみと始まりのユグドラシル~', 'へびでか〜へび刑事純情物語〜【放置ゲーム】', '山手線走ってみた。', '魔窟-无尽的地下城', 'こだわりラーメン館', '早くトイレに行きたい', '僕の魔球打てるの？', 'ホストのアブナイ世界', '謎解き ジェスチャーゲーム - 何してる？', 'ゲスの極み!パリピを探せ!!笑える・ハマる間違い探しゲーム（意外と難問）', '封神榜（洪荒西游英杰传奇）', '脱出ゲーム\\u3000ぼくのおねがいきいて', 'Dark Money-無料のお金稼ぎギャンブルゲーム-', '四角い頭を丸くする2', '战车世纪·经典FC重装机兵归来', 'モンストマルチ掲示板 〜 The BEST 〜 for モンスターストライク', '性格美男美女診断２', '快读免费小说-最热网络小说追书神器全本下载阅读器', '熊猫直播HD-最娱乐的直播平台', 'ごちうさアラーム\\u3000～ココア編～', '【カノピッピ大作戦】ギャルがオタクに恋をした/脱ギャル系彼女育成ゲーム', 'キンニクエスト 筋肉と筋肉と筋肉と呪われし筋肉', 'ジェスチャー当て', '擬人缶～俺のペットが少女になった～', '大人には解けない問題', '僕の彼女が成仏するまで', '霸王卧龙传奇（全新转职系统，60种职业供你选择）', '同城爱约会-单身男女约会神器', 'リア充撲滅RUN', 'うねうね糸', 'おそ松さんのへそくりウォーズ\\u3000〜ニートの攻防〜', 'CROSS -よけてすすむ爽快アクション-', '鬼畜-一亿人都在用的聊天必备神器!', '無制限で人気音楽聴き放題！ - Music Bank（ミュージックバンク）', '喔豆-发现世间美味', '口袋理财（标准版）-上市公司报喜鸟投资', '友達 恋人探し であい ちゃっと sns -ギャルとも', '中学英文法総復習 パターンで覚える 瞬間英文法', 'Brain15 − 脳トレ 無料パズル −', '【謎解き】ヤミすぎ彼女からのメッセージ', '謎解きロッカーの忘れ物', '巨商传奇', '秒で100億円', '武林群侠传—经典单机武侠RPG', '絶対に笑える話\\u3000腹筋崩壊の笑える話', '【悲報】鬼ヶ島終了のお知らせ\\u3000-ゾンビ桃太郎が3Dすぎて鬼やばいwww-', '小猿搜题HD-中小学拍照搜题作业帮手', 'マッチング チャット - マッチング&恋人探しチャット', '出会い秘密チャット - 相席 出会い系チャット', 'ねこげーむ~ねこ騎士ポチ~簡単で人気の猫ゲーム~基本無料', 'コンテンツブロッカー280 / 最高の広告ブロック 280blocker', '最高警戒', '中高英文法を10時間で！マジグラ', 'ピッタリあわせて！脳トレcube', 'サクッとスッキリ！ラインナンバー！', 'テトリマン', 'みんなの性格検定', 'スピードOnline トランプゲーム', '全民夺宝(官方)', '恵方コンパス！【恵方巻を食べる方角がすぐ探せる！】', '投资乐VIP-白银黄金贵金属理财投资', '激ムズ！お前、脱出できんの？～反射神経アクションゲーム～', '星之轨迹-好玩的手游角色扮演网游新游戏', 'ダイエットやメイク、ネイルのコスメ情報 - シェリル', '大人の出会いチャット  - 出会い系 アプリ', '自らデッドボール', '钱妈妈理财-国企投资有保障的金融理财产品！', '你我贷理财-基金理财工具', '你我贷理财-P2P理财管家', '脳トレ！パターンキューブ', 'バーチャル恵方巻【節分・恵方コンパス・方位】', 'スーパーブラックジャック2', '鳥として生きた男\\u3000その壮絶な人生', '謎解き窓ガラスの跡', 'AbemaTV-インターネットテレビ局', 'UDONちゅるん', '借金勇者~そして完済へ…', 'Clash of Richers 3 （城市富翁3）', 'えほう - 最強の恵方コンパス', 'PROF - 共通点で楽しむSNS', '恋する幽霊-カレシ、死んでます。-', '電球でテニスしてみた-無料で遊べるミニゲーム', 'ぼくのボッタクリBAR2 -全国制覇篇-', 'ロボはつらいよ。～フルボッコタワー～アクション育成強化ゲーム！', 'マンガモンスター \\u3000無料マンガ/無料本/人気マンガ', '謎解きあの人からメール', 'アニメスタジオ物語', '番茄电玩城', '主播炸金花', 'ビルホッピング', 'おやじが跳ぶ', 'ナイトメアハーレム 女性向け恋愛ゲーム！乙女げーむ', '競馬予想 アプリ！馬券予想で収支アップ！競馬 jra 攻略！', '金钱谷软件-活期手机金融投资理财平台!', 'FixYou-無料でチャットトークができるSNSマッチングアプリ', 'لغز الماضي - اربع اجزاء', '【難問謎解き】ねこ神様はクイズ好き？', '永生劫 — 单机回合仙侠RPG', '理财咖(管家版)-金融投资理财产品多样的手机理财工具!', 'ねことダンボール', '美播 - 玩不尽的真人游戏', '烈焰王座-称霸魔法帝国的策略游戏', 'ナニワ金融道\\u3000全巻無料のマンガアプリ', 'ねこあわせ。', 'こっち見んなwww', 'マイにゃんカフェ', '謎解き赤い封筒', 'どうして私じゃダメなの？', '[GP]アナザーゴッドハーデス-奪われたZEUSver.-(パチスロゲーム)', '壊して！無限ドリルランド', '彼女の涙が僕を人間にした', '脱出ゲーム 心霊学校からの脱出', '【負けるが勝ち？】少数派に入れば勝利の7Beget', '僕の妹が死んだ。', 'RPG 偽りの物語 / ドット絵ロールプレイングゲーム', '金のフレーズ 〜「新TOEIC®TEST 出る単特急 金のフレーズ」収録 〜', '脳トレ物理パズル【キタコレ！】～IQの限界に挑めるパズルゲーム～ktkr', '鬼畜三国-红将觉醒', '轩辕剑叁外传之天之痕-正版经典仙侠授权', '【ひっぱりパズル】ズキュ〜〜〜〜ン！', '君にはクリアできませんよ', 'ほぼ無理ゲー', '五目並べ - オンライン対戦搭載！', '香哈菜谱-最专业的家常菜谱大全 无广告版', 'CUBE 360°\\u3000～想像力×知能×反射神経～', '勘違い探し（俺のこと・・・）', '秒速で1億円 貢ぐ男\\u3000～美女キャラ集結！from ギャングロード JOKER～', 'MineSweeper\\u3000マインスイーパ無料', '銀魂 公式連載アプリ〜銀魂の漫画が毎週１巻読めるアプリ〜', 'ST channel ［エスティーチャンネル］- 雑誌『セブンティーン』公式アプリ', '国金宝理财-15%年化收益的金融投资赚钱软件', 'ひとほろぼし', 'Boooom!! -たった1発で爆破できますか？-', '大根にしがみつく女子高生', '-The 穴通し3D- 君の記憶力x反射神経を問う! ～Mr.CURVEからの挑戦状 ～', 'おかず甲子園', '女性向けまとめ読みアプリ - pool（プール）-', 'イケメン革命◆アリスと恋の魔法 恋愛ゲーム', 'Please,Dad. I wanna live.\\u3000おとうさん、おねがい。わたし生きたいよ。', 'TAP BRAIN - 1日5分の計算で頭が良くなるゲーム', '謎トレ 謎解き脳トレーニング', '脱出ゲーム\\u3000海底神殿からの脱出', '热血超人-二次元卡牌游戏', '斗地主·大全-2017年最受欢迎的精品棋牌游戏合集', '企业微信', 'Brain Block -脳トレ分解パズル-', 'タップモンスター◆タップだけの簡単本格RPG/タプモン', '人気の動画まとめてみた。\"for YouTube\"', '【謎解き】自称カノジョからの病みすぎメッセージ', 'おかんからのメッセ - ほのぼの謎解きゲーム', '箱庭シティ鉄道', 'ドリブルの達人', '非诚勿扰-中国最大免费婚恋交友平台', '小学館 オックスフォード 英語コロケーション辞典', '洋葱圈—正经人的不正经聊天工具', '心の美男美女診断', '現金製造ロボ -毎日コツコツ3万円稼ぐ-', 'BLOCK(ブロック) -ぼくの箱庭【3D】-', '出会い系無料で遊べるsnsアプリ内緒チャットトーク', '迷你屠龙传(1.76经典休闲挂机版)', 'Ｘ:15秒の人気 アクション ゲーム', 'スマイルパーク 〜らくらく放置系遊園地ゲーム〜', 'Horror Story 2016\\u3000こわい話', 'Test your color IQ！カラーIQ診断テスト', '陌爱-最in全民交友神器！同城寂陌陌生帅哥美女视频聊天约会平台', '感動アプリ！無料ゲーム Japanese Gacha', '陌爱神器-不闲聊！陌生人快速约见面平台', '陌恋-同城高颜值寂寞美女帅哥激情交友聊天神器！', '心がラクになる後ろ向き名言100選', '出会うカメ', 'お解きなさい！', '豪快ショット連発！爽快卓球ゲーム「サァァァ！」', '妖怪别跑', 'カテエネ×Shufoo！', 'レアジョブ瞬間中学英単語 | リスニングやTOEICの基礎学力にも', '輪ゴムでシュート！ - 無料で遊べるミニゲーム', '2代目 Nソウル みそぽん', 'DARUMA -目玉を転がして入れてください-', 'はじめん\\u3000～はじめとつくる動画生活～', '更加令人感动的养成游戏「昭和杂货店物语２」', '成金電鉄-超ハマる放置系ゲーム', '冒険ディグディグ（ドット絵ｘ放置ｘ冒険RPG）', '脱出ゲーム\\u3000Night Room', '高清影视-大片免费天天看', '无双小师妹-登录送橙将', 'ひみつの出会い探しはバクアイ-無料の出会いチャットアプリで友達作り', '【完全無料】おとな専用！出会い掲示板', '大学生のための時間割', 'スカッと！脳トレ！ピッといん〜頭がよくなるブロックパズルゲーム〜', 'You勇者 -HIKAKINとSEIKIN(ヒカキンとセイキン)と無料ロールプレイング', 'ぷかぷか', 'ゲームセンター倶楽部', '口袋电玩-经典街机游戏真人秀版•玩转全民疯狂欢乐火拼炸诈扎金花送斗牛牛麻将VIP', '彩库宝典-【官方版】', '蜀山诛魔纪-古装恋爱仙侠动作手游·MMO端游品质', 'もじさがし', '【完全無料】ソク出会える！ひみつフレ探し掲示板', 'NOW直播—腾讯旗下全民直播平台', 'ぱちモンパズル〜簡単無料パズルRPGゲーム', '女子力たったの５、ゴミずら◇恋愛xイケメン育成+放置げー！無料の育成・恋愛・放置ゲーム～', 'ダニエル！！今はフリーキック中よ！', '魔灵觉醒（王者归来）- 3D新职业魔剑士降临', '脱出ゲーム\\u3000研究所からの脱出', 'ビッグバン チャット-友達作り ひま友チャット', '东西战神', 'ひとたがやし', 'PP基金理财-灵活存取的高收益金融理财平台', 'BiBi娱乐社区 - 好玩的游戏都在这里！', '多融理财(Pro版)-12%高收益理财投资平台', '少年勇者团 (Combo Warrior)-日系Q萌即时战斗消除RPG手游', 'Spot the Difference!診断テスト', 'ピンポンカーブ  君の反射神経Lvはいくつ？  #天才求ム', 'Fit 私人健身教练-超有效的健康运动减肥软件', '妙资理财-探索版（安全稳健高收益理财神器  ）', '梦幻轩辕', '坂本ですが？秘技…フリータイムキラー', '日曜劇難99.9', '脱出ゲーム 古城からの脱出', 'ジョナサンアプリ\\u3000お得なクーポンが使える便利なアプリ', '新・血液型テスト', '少年西游记－西游卡牌王者之作', '애드픽 - 인플루언서가 되어 의미있는 수익을 올리세요!', '每日红包', '心动K歌恋爱季-让我们一起唱歌听歌恋爱吧', '30秒マン-これクリアできるやついる？-', '奇跡のメガネ\\u3000-恋愛シミュレーションゲーム', 'トリセツメーカー\\u3000トリセツ診断', '花粉儿-女性、母婴闲置交易平台', '熊猫直播-王者大神主播带你荣耀开黑', '传说一刀 - 一刀一级PK爆屠龙', '欢乐颂合集—刘涛、蒋欣等主演电视剧同名原著', 'ニュースパス -かんたん操作で必要なニュースがすぐ読めるニュースアプリ', '龙之觉醒-热血经典RPG，回味激燃岁月', 'ワンダークラウン', '我叫MT3-回合制魔幻世界 大型公会副本开荒', '皮皮四川麻将', '無料ゲーム タッチザナンバー（Touch the numbers）計算の脳トレでパズル！', '剑仙传奇·蜀山修仙之独步天下', 'もやししゃちょー', '【推理ゲーム】 YASU-第7捜査課事件ファイル-', '【脳トレ】ROLL -ころがす、はめる、きえる-', '战姬物语-亚洲顶级画师操刀,颜值爆表手游', '捨て猫レスキュー', 'らぶいずふぉーえばー #泣けるピアノゲーム', '猎魔传奇-塔塔&推塔挂机私服手游', '脱出ゲーム\\u3000大正ロマン\\u3000女記者脱出譚', '放置江湖: 大侠的成长之路（高自由度的武侠体验）', '果冻星连萌-全球极具诱惑益智游戏,好玩的闯关游戏,2016最新休闲益智游戏', '帝国征服者-王者联盟列国纷争', '当たる占い師【水晶玉子】特別鑑定書≪無料占いあり≫', '天天麻将-有奖励的麻将玩法全集', 'シルエットクイズ～人気マンガ・映画アニメキャラ・芸能人で暇つぶし脳トレ', '性教育そうだったのか！世界一まなべる保健体育クイズ(画像付き)', '派派激情版-寂陌陌声人交友神器', '单机群侠传-金庸群侠传口袋版', '镜花缘：两世英雄情缘,数年问仙修道', 'iSNOB 小众精品爱好者的私藏Top 10', 'キモゲーいや、きも毛ー', 'RAMP-光を灯す孤独な物語- #無料アクションゲーム', '人众金服[回馈版]-高收益理财软件', 'マジ死にゲー', 'まんが一本道〆', '创客金融-高收益银行存管投资理财平台', 'NINE 対戦型脳トレ -目指せ賞金王！-', 'ポケット戦国 -戦略と戦術で歴史を作れ！-【本格派 戦国シミュレーション】', '视吧-全民手机直播', 'やる夫のチャリ', '英雄Q传-穿越回合制卡牌手游，梦幻般的剧情，开启3D热血传奇人生', '脱出ゲーム 体育館からの脱出【学校脱出シリーズ5弾】', '街机格斗王', '微火车票-查机票订酒店春运特价随行', '好きになったら負け。\\u3000完全無料！女性向けイケメン恋愛ゲーム', '车轮车友会—汇集养车、洗车、代驾、汽车头条、汽车用品的车友聊天分享之家', '自动证件照 - 智能证件照相机美图美颜编辑,制作学生证件照', '天天萌斗—超级萌红将免费领取，上千少年超级英雄形象，让你在多次元大陆享受卡牌萌斗罗乐趣', 'これやったことない人いる？', '鴨川等間隔の法則', '不思議雑貨店ローズ ～ほのぼの再建記～', '多纳餐厅2', '坦克新纪元——经典红警狂热回归', '女の子のための女子トレンドまとめアプリ-ウーマガジン-', 'マッチングならSecret- 友達・恋人探しSNS', '極限ドリブル～神の子 edition～', '牛タン牛タン牛タンタン', '精度93％ 絶望の心理テスト', '镜花奇缘 - 最新诛仙类卡牌传奇手游游戏', '妙资理财（九周年版)-高收益理财投资平台', '妙资理财-福利版（年化14.8%注册送1万体验金）', '面白ニュースを超快適に読める!!まとめのまとめMM', 'おじクエ - OJISAN QUEST - タップRPG -', 'ここに墓を建てよう', '激おこ!! はじめしゃちょー\\u3000なんなんですか!?', 'GeniusTest！天才てすと', '炎上なう -つぶやきSNS風シミュレーションゲーム-', 'Test your color IQ！カラーIQ診断テスト２', '面倒だがトリあえずキーボード ～ さわりたくなるキーボード', 'アキラメロン【メロンを受け止める、チョイムズゲー】', '【脱出ゲーム】絶対に最後までプレイしないで 〜謎解き＆ブロックパズル〜', '無料アプリ暇つぶしゲーム【BOKEMON】〜トボケモンスターを進化させるで〜', 'Casino Girl-お金稼ぎ美少女育成ゲーム-', '航海帝国HD 唯一正版授权 传承经典 统御大航海强者时代', '今日、彼女が死んだ', 'ひとりぼっち惑星', '江湖风云录-超自由武侠剧情角色扮演手游', 'ゲーム攻略「SGGP」掲示板、SNSな友達出会い', '犯人は僕です。－謎解き×探索ノベルゲーム－', '[GP]パチスロ ヱヴァンゲリヲン〜決意の刻〜(パチスロゲーム)', 'なっとう-人気の納豆育成ゲーム-', '罪と罰2 -犯人は誰だ!?- 謎解き推理ミステリーサスペンス', 'AKUMA大戦 -悪魔を合体召喚して魔王を育成する放置ゲーム-', 'なぞって冒険！きゅるるんくまのパズルリンク', '求恋爱 专业版-高端恋爱相亲婚恋交友神器,同城寂寞单身男女聊天约会找对象平台', '暇つぶしに人気  脳トレ パズルゲーム\\u3000- LINK', '梦幻西游互通版', '金庸群侠传—全自由单机武侠RPG', '万年历-日历农历黄历天气', '烈焰王座HD - 卡牌与挂机结合的养成放置游戏', '流しそうめんエクストリーム', 'トクバイ - チラシアプリ／スーパーの特売情報で節約 -', '口袋全明星', 'Are you a psychopath? 怖い心理テスト', '勇士与魔龙', 'ねこみっけ - おもしろい人気無料ゲーム', 'トリセツメーカー２\\u3000トリセツ診断', '爆笑アプリ！人気無料ゲーム kimazui gacha', '【業界初成長マップ搭載！ねこ育成マト当てパズルRPG】たまねこウォーズ', '無料ゲーム HANABI ON LINE 花火（ハナビ）パズル', '脱出ゲーム - KINDERGARTEN - 子供にイタズラされたリビングからの 脱出', '懸賞ソリティア-ギフト券/ギフトコードGETでお小遣いが稼げる定番ソリティアクロンダイク', '如意夺宝', '逆战仙魔 大圣萌仙全民跨服千人即时PK', 'スーパーストリートファイターIV パチスロエディション', '目の錯覚で性格診断', '僕の彼女が誘拐された。', '虫虫大作战-经典休闲蛇蛇', '脱出ゲーム 学校の食堂からの脱出', 'MapFan(マップファン) – 渋滞情報/オービス/オフライン対応の本格カーナビ', 'ハニーズアプリ', '抢火车票 for 12306火车票官网', 'SKK アクション ブロック崩し', 'もこうもこもこ', 'シュッと描いてポンッ!（シュポン）物理パズル脳トレ', '脳トレ爽快パズル 激ムズ！和のひとふで書き Line', '超特訓！トミックゲーム！！', 'SAMURAI SCHEMA -幕末維新戦記- サムライスキーマ 本格派育成放置ゲーム', '式姫４コマ 其之四', '脱出ゲーム 気まぐれカフェの謎解きタイム', 'Love Bank -お金ゲーム/恋愛ゲーム/美少女ゲーム/育成ゲーム/タップゲーム/賭けゲーム', 'Love Bank-お金ゲーム/恋愛ゲーム/イケメンゲーム/育成ゲーム/タップゲーム/賭けゲーム', '【はらぺこパズル】ごはんに恋をした', 'ポケ電バッテリー for ポケモンGO', '南国物語', 'クリアしてみろよ？ 神ゲー アクション ゲーム', '電車パズル ツメツメ - 通勤時間にピッタリ! 脳トレパズル', 'ブラックバイトはじめました。２\\u3000～居酒屋編～', '極寒スライダー', 'PIXUSかんたん年賀状', 'BLEACH 公式連載アプリ〜BLEACHの漫画が毎週１巻読めるアプリ〜', '謎解き[緋色探偵社と100の推理]メッセージアプリ風ノベルゲーム', '【謎解き推理】意味が分かると怖い話-この怖い話を謎解き、怪談を読み解けるか…', 'プログレッシブ ロシア語辞典', '[GP]SLOT魔法少女まどかマギカ(パチスロゲーム)', '脱出ゲーム\\u3000Cottage', '[GP]ハナハナホウオウ-30(パチスロゲーム)', 'シカクイズ -暇つぶしマンガアニメ映画クイズ-暇つぶしに最適', '意味が分かると怖い話-この意味怖を謎解きできるか…【謎解き意味怖】', '戦国乙女2～深淵に輝く気高き将星～', 'まるみえ！性教育ふしぎ発見-クイズで学ぶ保健体育', '頭の回転をはやくする！脳トレ！Blackhole', 'パチスロ デビル メイ クライ クロス', '脱出ゲーム\\u3000カリスマブラザーズのワクワク女子寮脱出大作戦', 'エレメンタル ファンタジー - 高精細３ＤアクションＲＰＧ', '大人がハマる脳トレ！ぷるるん～頭が良くなる一筆書きパズル～', 'パチスロ ガールズ＆パンツァー', '全民打金币——爽快的正版放置手游', '森林舞会-3d画面刺激的娱乐城游戏', 'ピンポンファイター - 卓球王にオレはなるっ！！', 'Uber优步中国', '意味が分かると怖い話【意味怖】-この怖い話の意味が分かるか…', '战歌联萌-新英雄登场 惊喜嘉年华', '大人のためのかわいいお買い物アプリSUCRESIA(シュクレシア）', 'こち亀 公式連載アプリ〜こち亀の漫画が読めるアプリ〜', '脱出ゲーム\\u3000In My Heart', '吕布帮帮忙-三国策略卡牌，指间微操轻松畅玩', '凤凰新闻(专业版)-有料的军事新闻、娱乐短视频', '武神战纪OL-热血三国志国战手游', '微软识花', '剑雨奇缘-万人同屏PK,唯美风仙侠', '【殺人現場へようこそ】推理サスペンス劇場/謎解き大人の脳トレゲーム', '蒼の彼方のフォーリズム‐ETERNAL SKY-', 'アウト～まさか浮気してないよね？～【恋愛不倫探しゲーム】', '意味が分かると怖い話-この怖い話の意味分かる？【意味怖】', '古墓仙缘-古装恋爱修仙手游', '大人の脳トレ！ぴたぽん #頭が良くなる #快感ハメコミパズル', '食べないと死ぬ2', '无敌战舰-经典策略海战巅峰对决', '【意味笑】意味が分かると面白い話-謎解き2ch系推理ゲーム', '疯狂百宝箱', '謝罪会見', '青空発掘カンパニー', '犯人は僕です。～露天風呂編～', '脱出ゲーム 1K', '【ドレ？ドコ？】脱出ゲーム感覚の謎解きパズルゲーム', '下ヨシ子の「２０１７年\\u3000あなたの流生命」', '仙侠剑客—大型3D精品ARPG动作神作', 'オトナの教科書〜学校じゃ教わらない裏教育クイズ(画像付き)〜', '妖萌战姬HD - 日系二次元萌娘卡牌手游', 'GETだぜ！じゃねーよｗ for ポケモン', '激突!!10円玉ドッカンバトル -最強AIに勝てる？-', '脱出ゲーム 学校の七不思議 -恐怖からの脱出-', 'おわかりいただけただろうか心霊写真で最恐ホラー体験', '秘密の関係はじめました メッセージ風恋愛ゲーム', '777游戏厅-2017超人气掌上游戏厅', '脱出ゲーム Toilet', '诛妖奇遇-3D仙侠恋爱网游年度巨献(浪漫回合)', '懸賞ソリティア-懸賞応募でギフト券が稼げるソリティア！-無料懸賞ゲーム', '大人の納車ゲーム-四角いアタマを丸くする脳トレパズル', '２ちゃんねる for iPhone', '梦幻仙途-经典之余又大搞趣味创新（回合制）', '借金あるからギャンブルしてくる', 'ミリオン行進曲', '迷你世界-国产精品沙盒联机生存建造游戏', '無料で音楽や写真・カメラの裏技アプリ for iPhone7', '别动我学姐-校园格斗巅峰之作', '江湖侠客录－武侠迷必玩单机手游', '大话问仙 - 与众不同的萌派仙侠回合游戏体验(送神器)', '琅琊天下 - 原著改编单机武侠角色扮演RPG', '脱出ゲーム - Solid - 無機質な部屋からの 脱出', '天神决-创新仙侠手游', '胜者为王-多人同时在线PK传奇类手机网游！', 'ネイティブ1000人と作った英会話～日常英会話編～', '脱出ゲーム 謎解き部屋からの脱出', '修仙侠侣-正统中国风仙侠新作', '逍遥修仙-掌上360度自由视角经典仙侠动作游戏', '修仙幻想-经典萌系回合', '挂机三国-最强挂机游戏', '弑仙问情', '泰坦来袭-热血英雄燃爆部落争霸之战', '死亡フラグがたちました！！【ノベルゲーム型あるある謎解きアドベンチャー】', '脱出ゲーム\\u3000ピラミッドからの脱出', '脱出ゲーム Oden', '紫马财行理财精英版—安全可靠的投资理财平台', 'js体育资讯', '脱出ゲーム KOTATSU', 'DELISH KITCHEN - レシピ動画で料理を簡単に', '最佳足球经理(非彩票)', '东方头条（探索版）订阅分享感兴趣的新闻和搞笑视频', '新超级群英传OL-单机党必玩的三国群英手游', 'ハマる脳とれ ぱずる!!PITTARI～子供も楽しめる脳とれ ぱずるげーむ～', '[GP]パチスロ デビル メイ クライ クロス(パチスロゲーム)', '王权之战-帝国时代皇室争霸！', 'オービスガイド - 新型オービス&ネズミ捕り&検問', '脱出ゲーム KA-MA-KU-RA', '不良西游-神魔悟空大战篇', '食べないと死ぬ 3', '椅子ドンVR~一ノ宮英介 編~', 'クリスマスミッケ/脱出ゲーム感覚の絵探しパズルゲーム', '机で卓球', 'ＣＲスーパー海物語ＩＮ沖縄４', '開園ピクセル牧場', '脱出ゲーム\\u3000わたしをみつけて\\u3000-おじいさんとわたしの物語-', 'My Diary - 你的名字非官方', '剑倚手游', '剑客情缘-高爆率高掉落天天疯玩', '问仙奇遇-新玩法新套装嗨到爆', '脱出ゲーム - 書道教室 -  \"漢字\"の謎に満ちた部屋からの 脱出', '飞刀传奇-动作武侠热血江湖即时PK传奇（登录爆金装）']\n"
     ]
    }
   ],
   "source": [
    "print(not_english)"
   ]
  },
  {
   "cell_type": "markdown",
   "metadata": {},
   "source": [
    "### Analysis"
   ]
  },
  {
   "cell_type": "markdown",
   "metadata": {},
   "source": [
    "Although the funtion my make us lose some app that are actually English overall the result is quite positive. We have a total of 9614 apps in the Google store and 6183 in the apple store.  "
   ]
  },
  {
   "cell_type": "markdown",
   "metadata": {},
   "source": [
    "### Apple"
   ]
  },
  {
   "cell_type": "code",
   "execution_count": 106,
   "metadata": {},
   "outputs": [],
   "source": [
    "for row in apple:\n",
    "    header_length = len(apple_header)\n",
    "    rowlength = len(row) \n",
    "    if rowlength != header_length:\n",
    "        print(row)\n",
    "        print(apple.index(row))"
   ]
  },
  {
   "cell_type": "code",
   "execution_count": 108,
   "metadata": {},
   "outputs": [
    {
     "name": "stdout",
     "output_type": "stream",
     "text": [
      "['11097', '1188375727', 'Escape the Sweet Shop Series', '90898432', 'USD', '0', '3', '3', '5', '5', '1.0', '4+', 'Games', '40', '0', '2', '1']\n",
      "7196\n"
     ]
    }
   ],
   "source": [
    "print(row)\n",
    "print(apple.index(row))"
   ]
  },
  {
   "cell_type": "code",
   "execution_count": 80,
   "metadata": {},
   "outputs": [
    {
     "data": {
      "text/plain": [
       "['App',\n",
       " 'Category',\n",
       " 'Rating',\n",
       " 'Reviews',\n",
       " 'Size',\n",
       " 'Installs',\n",
       " 'Type',\n",
       " 'Price',\n",
       " 'Content Rating',\n",
       " 'Genres',\n",
       " 'Last Updated',\n",
       " 'Current Ver',\n",
       " 'Android Ver']"
      ]
     },
     "execution_count": 80,
     "metadata": {},
     "output_type": "execute_result"
    }
   ],
   "source": [
    "google_header"
   ]
  }
 ],
 "metadata": {
  "kernelspec": {
   "display_name": "Python 3",
   "language": "python",
   "name": "python3"
  },
  "language_info": {
   "codemirror_mode": {
    "name": "ipython",
    "version": 3
   },
   "file_extension": ".py",
   "mimetype": "text/x-python",
   "name": "python",
   "nbconvert_exporter": "python",
   "pygments_lexer": "ipython3",
   "version": "3.7.3"
  }
 },
 "nbformat": 4,
 "nbformat_minor": 2
}
